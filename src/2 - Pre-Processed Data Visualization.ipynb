{
 "cells": [
  {
   "cell_type": "markdown",
   "metadata": {},
   "source": [
    "<h1>2 - Pre-Processed Data Visualization</h1>\n",
    "\n",
    "Visualization of the raw data corrected in the previous step."
   ]
  },
  {
   "cell_type": "markdown",
   "metadata": {},
   "source": [
    "<h4>Importing Packages</h4>"
   ]
  },
  {
   "cell_type": "code",
   "execution_count": null,
   "metadata": {},
   "outputs": [],
   "source": [
    "import os\n",
    "import folium\n",
    "import pandas as pd\n",
    "import matplotlib.pyplot as plt\n",
    "# %matplotlib inline\n",
    "%matplotlib notebook\n",
    "pd.set_option(\"float_format\", '{:0.10f}'.format)\n",
    "pd.set_option('display.max_columns', 30)\n",
    "%run \"2 - Pre-Processed Data Visualization.py\""
   ]
  },
  {
   "cell_type": "markdown",
   "metadata": {},
   "source": [
    "<h4>Utility Functions</h4>"
   ]
  },
  {
   "cell_type": "code",
   "execution_count": null,
   "metadata": {
    "code_folding": [
     1,
     11,
     17,
     23
    ]
   },
   "outputs": [],
   "source": [
    "# Function to plot the data\n",
    "def plotData(data, typeAxis, title, raw=False, mean=False, std=False, window=5):\n",
    "    \n",
    "    plt.figure(figsize=(16,6)) \n",
    "    plt.title(title)\n",
    "    \n",
    "    below_suspension = data[typeAxis + '_below_suspension']\n",
    "    above_suspension = data[typeAxis + '_above_suspension']\n",
    "    dashboard = data[typeAxis + '_dashboard']\n",
    "    speed = data['speed']\n",
    "    \n",
    "    if raw:\n",
    "        below_suspension.plot()\n",
    "        above_suspension.plot()\n",
    "        dashboard.plot()\n",
    "        speed.plot()\n",
    "    \n",
    "    if mean:\n",
    "        below_suspension.rolling(window).mean().plot()\n",
    "        above_suspension.rolling(window).mean().plot()\n",
    "        dashboard.rolling(window).mean().plot()\n",
    "        speed.plot()\n",
    "        \n",
    "    if std:\n",
    "        below_suspension.rolling(window).std().plot()\n",
    "        above_suspension.rolling(window).std().plot()\n",
    "        dashboard.rolling(window).std().plot()\n",
    "        speed.plot()\n",
    "    \n",
    "    plt.legend(loc='upper center')"
   ]
  },
  {
   "cell_type": "markdown",
   "metadata": {},
   "source": [
    "<h4>Data Import</h4>"
   ]
  },
  {
   "cell_type": "code",
   "execution_count": null,
   "metadata": {},
   "outputs": [],
   "source": [
    "# Dataset selection\n",
    "dataset = workspace['datasets']['saveiro-1']\n",
    "folder = os.path.join(workspace['settings']['folder'], dataset['folder'])\n",
    "gps = pd.read_csv(os.path.join(folder, 'dataset_gps.csv'), float_precision=\"high\")\n",
    "data_Left = pd.read_csv(os.path.join(folder, 'dataset_gps_mpu_left.csv'), float_precision=\"high\")\n",
    "data_Right = pd.read_csv(os.path.join(folder, 'dataset_gps_mpu_right.csv'), float_precision=\"high\")"
   ]
  },
  {
   "cell_type": "markdown",
   "metadata": {},
   "source": [
    "<h4>Data Visualization</h4>"
   ]
  },
  {
   "cell_type": "code",
   "execution_count": null,
   "metadata": {},
   "outputs": [],
   "source": [
    "gps.describe()"
   ]
  },
  {
   "cell_type": "code",
   "execution_count": null,
   "metadata": {},
   "outputs": [],
   "source": [
    "data_Left.describe()"
   ]
  },
  {
   "cell_type": "code",
   "execution_count": null,
   "metadata": {},
   "outputs": [],
   "source": [
    "data_Right.describe()"
   ]
  },
  {
   "cell_type": "code",
   "execution_count": null,
   "metadata": {},
   "outputs": [],
   "source": [
    "gps.head()"
   ]
  },
  {
   "cell_type": "code",
   "execution_count": null,
   "metadata": {},
   "outputs": [],
   "source": [
    "data_Left.head()"
   ]
  },
  {
   "cell_type": "code",
   "execution_count": null,
   "metadata": {
    "scrolled": true
   },
   "outputs": [],
   "source": [
    "data_Right.head()"
   ]
  },
  {
   "cell_type": "markdown",
   "metadata": {},
   "source": [
    "<h2>Acceleration</h2>"
   ]
  },
  {
   "cell_type": "markdown",
   "metadata": {},
   "source": [
    "<h6>Acc X Left</h6>"
   ]
  },
  {
   "cell_type": "code",
   "execution_count": null,
   "metadata": {},
   "outputs": [],
   "source": [
    "plotData(data_Left, \"acc_x\", \"Acc X - Left - Raw Data\", raw=True)"
   ]
  },
  {
   "cell_type": "code",
   "execution_count": null,
   "metadata": {},
   "outputs": [],
   "source": [
    "plotData(data_Left, \"acc_x\", \"Acc X - Left - Moving average\", mean=True)"
   ]
  },
  {
   "cell_type": "code",
   "execution_count": null,
   "metadata": {},
   "outputs": [],
   "source": [
    "plotData(data_Left, \"acc_x\", \"Acc X - Left - Moving Standard Deviation\", std=True)"
   ]
  },
  {
   "cell_type": "markdown",
   "metadata": {},
   "source": [
    "<h6>Acc X Right</h6>"
   ]
  },
  {
   "cell_type": "code",
   "execution_count": null,
   "metadata": {},
   "outputs": [],
   "source": [
    "plotData(data_Right, \"acc_x\", \"Acc X - Right - Raw Data\", raw=True)"
   ]
  },
  {
   "cell_type": "code",
   "execution_count": null,
   "metadata": {},
   "outputs": [],
   "source": [
    "plotData(data_Right, \"acc_x\", \"Acc X - Right - Moving average\", mean=True)"
   ]
  },
  {
   "cell_type": "code",
   "execution_count": null,
   "metadata": {},
   "outputs": [],
   "source": [
    "plotData(data_Right, \"acc_x\", \"Acc X - Right - Moving Standard Deviation\", std=True)"
   ]
  },
  {
   "cell_type": "markdown",
   "metadata": {},
   "source": [
    "<h6>Acc Y Left</h6>"
   ]
  },
  {
   "cell_type": "code",
   "execution_count": null,
   "metadata": {},
   "outputs": [],
   "source": [
    "plotData(data_Left, \"acc_y\", \"Acc Y - Left - Raw Data\", raw=True)"
   ]
  },
  {
   "cell_type": "code",
   "execution_count": null,
   "metadata": {},
   "outputs": [],
   "source": [
    "plotData(data_Left, \"acc_y\", \"Acc Y - Left - Moving average\", mean=True)"
   ]
  },
  {
   "cell_type": "code",
   "execution_count": null,
   "metadata": {},
   "outputs": [],
   "source": [
    "plotData(data_Left, \"acc_y\", \"Acc Y - Left - Moving Standard Deviation\", std=True)"
   ]
  },
  {
   "cell_type": "markdown",
   "metadata": {},
   "source": [
    "<h6>Acc Y Right</h6>"
   ]
  },
  {
   "cell_type": "code",
   "execution_count": null,
   "metadata": {},
   "outputs": [],
   "source": [
    "plotData(data_Right, \"acc_y\", \"Acc Y - Right - Raw Data\", raw=True)"
   ]
  },
  {
   "cell_type": "code",
   "execution_count": null,
   "metadata": {},
   "outputs": [],
   "source": [
    "plotData(data_Right, \"acc_y\", \"Acc Y - Right - Moving average\", mean=True)"
   ]
  },
  {
   "cell_type": "code",
   "execution_count": null,
   "metadata": {},
   "outputs": [],
   "source": [
    "plotData(data_Right, \"acc_y\", \"Acc Y - Right - Moving Standard Deviation\", std=True)"
   ]
  },
  {
   "cell_type": "markdown",
   "metadata": {},
   "source": [
    "<h6>Acc Z Left</h6>"
   ]
  },
  {
   "cell_type": "code",
   "execution_count": null,
   "metadata": {},
   "outputs": [],
   "source": [
    "plotData(data_Left, \"acc_z\", \"Acc z - Left - Raw Data\", raw=True)"
   ]
  },
  {
   "cell_type": "code",
   "execution_count": null,
   "metadata": {},
   "outputs": [],
   "source": [
    "plotData(data_Left, \"acc_z\", \"Acc Z - Left - Moving average\", mean=True)"
   ]
  },
  {
   "cell_type": "code",
   "execution_count": null,
   "metadata": {},
   "outputs": [],
   "source": [
    "plotData(data_Left, \"acc_z\", \"Acc Z - Left - Moving Standard Deviation\", std=True)"
   ]
  },
  {
   "cell_type": "markdown",
   "metadata": {},
   "source": [
    "<h6>Acc Z Right</h6>"
   ]
  },
  {
   "cell_type": "code",
   "execution_count": null,
   "metadata": {},
   "outputs": [],
   "source": [
    "plotData(data_Right, \"acc_z\", \"Acc Z - Right - Raw Data\", raw=True)"
   ]
  },
  {
   "cell_type": "code",
   "execution_count": null,
   "metadata": {},
   "outputs": [],
   "source": [
    "plotData(data_Right, \"acc_z\", \"Acc Z - Right - Moving average\", mean=True)"
   ]
  },
  {
   "cell_type": "code",
   "execution_count": null,
   "metadata": {},
   "outputs": [],
   "source": [
    "plotData(data_Right, \"acc_z\", \"Acc Z - Right - Moving Standard Deviation\", std=True)"
   ]
  },
  {
   "cell_type": "markdown",
   "metadata": {},
   "source": [
    "<h2>Gyroscope</h2>"
   ]
  },
  {
   "cell_type": "markdown",
   "metadata": {},
   "source": [
    "<h6>Gyro X Left</h6>"
   ]
  },
  {
   "cell_type": "code",
   "execution_count": null,
   "metadata": {},
   "outputs": [],
   "source": [
    "plotData(data_Left, \"gyro_x\", \"Gyro X - Left - Raw Data\", raw=True)"
   ]
  },
  {
   "cell_type": "code",
   "execution_count": null,
   "metadata": {},
   "outputs": [],
   "source": [
    "plotData(data_Left, \"gyro_x\", \"Gyro X - Left - Moving average\", mean=True)"
   ]
  },
  {
   "cell_type": "code",
   "execution_count": null,
   "metadata": {},
   "outputs": [],
   "source": [
    "plotData(data_Left, \"gyro_x\", \"Gyro X - Left - Moving Standard Deviation\", std=True)"
   ]
  },
  {
   "cell_type": "markdown",
   "metadata": {},
   "source": [
    "<h6>Gyro X Right</h6>"
   ]
  },
  {
   "cell_type": "code",
   "execution_count": null,
   "metadata": {},
   "outputs": [],
   "source": [
    "plotData(data_Right, \"gyro_x\", \"Gyro X - Right - Raw Data\", raw=True)"
   ]
  },
  {
   "cell_type": "code",
   "execution_count": null,
   "metadata": {},
   "outputs": [],
   "source": [
    "plotData(data_Right, \"gyro_x\", \"Gyro X - Right - Moving average\", mean=True)"
   ]
  },
  {
   "cell_type": "code",
   "execution_count": null,
   "metadata": {},
   "outputs": [],
   "source": [
    "plotData(data_Right, \"gyro_x\", \"Gyro X - Right - Moving Standard Deviation\", std=True)"
   ]
  },
  {
   "cell_type": "markdown",
   "metadata": {},
   "source": [
    "<h6>Gyro Y Left</h6>"
   ]
  },
  {
   "cell_type": "code",
   "execution_count": null,
   "metadata": {},
   "outputs": [],
   "source": [
    "plotData(data_Left, \"gyro_y\", \"Gyro Y - Left - Raw Data\", raw=True)"
   ]
  },
  {
   "cell_type": "code",
   "execution_count": null,
   "metadata": {},
   "outputs": [],
   "source": [
    "plotData(data_Left, \"gyro_y\", \"Gyro Y - Left - Moving average\", mean=True)"
   ]
  },
  {
   "cell_type": "code",
   "execution_count": null,
   "metadata": {},
   "outputs": [],
   "source": [
    "plotData(data_Left, \"gyro_y\", \"Gyro Y - Left - Moving Standard Deviation\", std=True)"
   ]
  },
  {
   "cell_type": "markdown",
   "metadata": {},
   "source": [
    "<h6>Gyro Y Right</h6>"
   ]
  },
  {
   "cell_type": "code",
   "execution_count": null,
   "metadata": {},
   "outputs": [],
   "source": [
    "plotData(data_Right, \"gyro_y\", \"Gyro Y - Right - Raw Data\", raw=True)"
   ]
  },
  {
   "cell_type": "code",
   "execution_count": null,
   "metadata": {},
   "outputs": [],
   "source": [
    "plotData(data_Right, \"gyro_y\", \"Gyro Y - Right - Moving average\", mean=True)"
   ]
  },
  {
   "cell_type": "code",
   "execution_count": null,
   "metadata": {},
   "outputs": [],
   "source": [
    "plotData(data_Right, \"gyro_y\", \"Gyro Y - Right - Moving Standard Deviation\", std=True)"
   ]
  },
  {
   "cell_type": "markdown",
   "metadata": {},
   "source": [
    "<h6>Gyro Z Left</h6>"
   ]
  },
  {
   "cell_type": "code",
   "execution_count": null,
   "metadata": {},
   "outputs": [],
   "source": [
    "plotData(data_Left, \"gyro_z\", \"Gyro Z - Left - Raw Data\", raw=True)"
   ]
  },
  {
   "cell_type": "code",
   "execution_count": null,
   "metadata": {},
   "outputs": [],
   "source": [
    "plotData(data_Left, \"gyro_z\", \"Gyro Z - Left - Moving average\", mean=True)"
   ]
  },
  {
   "cell_type": "code",
   "execution_count": null,
   "metadata": {},
   "outputs": [],
   "source": [
    "plotData(data_Left, \"gyro_z\", \"Gyro Z - Left - Moving Standard Deviation\", std=True)"
   ]
  },
  {
   "cell_type": "markdown",
   "metadata": {},
   "source": [
    "<h6>Gyro Z Right</h6>"
   ]
  },
  {
   "cell_type": "code",
   "execution_count": null,
   "metadata": {},
   "outputs": [],
   "source": [
    "plotData(data_Right, \"gyro_z\", \"Gyro Z - Right - Raw Data\", raw=True)"
   ]
  },
  {
   "cell_type": "code",
   "execution_count": null,
   "metadata": {},
   "outputs": [],
   "source": [
    "plotData(data_Right, \"gyro_z\", \"Gyro Z - Right - Moving average\", mean=True)"
   ]
  },
  {
   "cell_type": "code",
   "execution_count": null,
   "metadata": {},
   "outputs": [],
   "source": [
    "plotData(data_Right, \"gyro_z\", \"Gyro Z - Right - Moving Standard Deviation\", std=True)"
   ]
  },
  {
   "cell_type": "markdown",
   "metadata": {},
   "source": [
    "<h2>GPS</h2>"
   ]
  },
  {
   "cell_type": "code",
   "execution_count": null,
   "metadata": {},
   "outputs": [],
   "source": [
    "speedMS = gps['speed_meters_per_second']\n",
    "speedKMH = gps['speed_meters_per_second'] * 3.6\n",
    "speedEstimated = gps['distance_meters'] / gps['elapsed_time_seconds']\n",
    "\n",
    "plt.figure(figsize=(16,8)) \n",
    "plt.title('Speed in m/s and km/h')\n",
    "speedEstimated.plot(label='m/s - Estimated', color='red')\n",
    "speedMS.plot(label='m/s')\n",
    "speedKMH.plot(label='km/h')\n",
    "plt.legend(loc='upper center')"
   ]
  },
  {
   "cell_type": "code",
   "execution_count": null,
   "metadata": {},
   "outputs": [],
   "source": [
    "locations = gps[['latitude', 'longitude']]\n",
    "coordinates = [tuple(x) for x in locations.to_numpy()]\n",
    "\n",
    "focolat = (gps['latitude'].min() + gps['latitude'].max()) / 2\n",
    "focolon = (gps['longitude'].min() + gps['longitude'].max()) / 2\n",
    "maps = folium.Map(location=[focolat, focolon], zoom_start=14)\n",
    "\n",
    "folium.PolyLine(coordinates, color=\"blue\", weight=2.5, opacity=1).add_to(maps)\n",
    "\n",
    "maps"
   ]
  },
  {
   "cell_type": "code",
   "execution_count": null,
   "metadata": {},
   "outputs": [],
   "source": []
  }
 ],
 "metadata": {
  "kernelspec": {
   "display_name": "Python 3",
   "language": "python",
   "name": "python3"
  },
  "language_info": {
   "codemirror_mode": {
    "name": "ipython",
    "version": 3
   },
   "file_extension": ".py",
   "mimetype": "text/x-python",
   "name": "python",
   "nbconvert_exporter": "python",
   "pygments_lexer": "ipython3",
   "version": "3.7.7"
  }
 },
 "nbformat": 4,
 "nbformat_minor": 4
}
