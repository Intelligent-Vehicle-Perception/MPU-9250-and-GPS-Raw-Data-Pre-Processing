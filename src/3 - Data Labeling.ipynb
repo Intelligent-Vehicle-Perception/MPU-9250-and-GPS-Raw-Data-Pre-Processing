{
 "cells": [
  {
   "cell_type": "markdown",
   "metadata": {},
   "source": [
    "<h1>3 - Data Labeling</h1>\n",
    "\n",
    "This Jupyter Notebook creates the labels of the data classes."
   ]
  },
  {
   "cell_type": "markdown",
   "metadata": {},
   "source": [
    "<h4>Road Surface Type</h4>\n",
    "\n",
    "<table>\n",
    "     <tr>\n",
    "         <th>Description</th>\n",
    "         <th>Label</th>\n",
    "     </tr>\n",
    "     <tr>\n",
    "         <td>Dirt Road</td>\n",
    "         <td>dirt_road</td>\n",
    "     </tr>\n",
    "     <tr>\n",
    "         <td>Cobblestone Road</td>\n",
    "         <td>cobblestone_road</td>\n",
    "     </tr>\n",
    "     <tr>\n",
    "         <td>Asphalt Road</td>\n",
    "         <td>asphalt_road</td>\n",
    "     </tr>\n",
    "</table>\n"
   ]
  },
  {
   "cell_type": "markdown",
   "metadata": {},
   "source": [
    "<h4>Road Surface Condition</h4>\n",
    "\n",
    "<table>\n",
    "     <tr>\n",
    "         <th>Description</th>\n",
    "         <th>Label</th>\n",
    "     </tr>\n",
    "     <tr>\n",
    "         <td>Paved Road</td>\n",
    "         <td>paved_road</td>\n",
    "     </tr>\n",
    "     <tr>\n",
    "         <td>Unpaved Road</td>\n",
    "         <td>unpaved_road</td>\n",
    "     </tr>\n",
    "</table>"
   ]
  },
  {
   "cell_type": "markdown",
   "metadata": {},
   "source": [
    "<h4>Speed Bump</h4>\n",
    "\n",
    "<table>\n",
    "     <tr>\n",
    "         <th>Description</th>\n",
    "         <th>Label</th>\n",
    "     </tr>\n",
    "     <tr>\n",
    "         <td>No Speed Bump</td>\n",
    "         <td>no_speed_bump</td>\n",
    "     </tr>\n",
    "     <tr>\n",
    "         <td>Regular Speed Bump</td>\n",
    "         <td>regular_speed_bump</td>\n",
    "     </tr>\n",
    "     <tr>\n",
    "         <td>Irregular Speed Bump</td>\n",
    "         <td>irregular_speed_bump</td>\n",
    "     </tr>\n",
    "</table>\n"
   ]
  },
  {
   "cell_type": "markdown",
   "metadata": {},
   "source": [
    "<h4>Importing Packages</h4>"
   ]
  },
  {
   "cell_type": "code",
   "execution_count": null,
   "metadata": {},
   "outputs": [],
   "source": [
    "import os\n",
    "import pandas as pd\n",
    "import matplotlib.pyplot as plt\n",
    "%matplotlib inline\n",
    "# %matplotlib notebook\n",
    "pd.set_option(\"float_format\", '{:0.10f}'.format)\n",
    "pd.set_option('display.max_columns', 30)\n",
    "%run \"3 - Data Labeling.py\""
   ]
  },
  {
   "cell_type": "markdown",
   "metadata": {},
   "source": [
    "<h4>Utility Functions</h4>"
   ]
  },
  {
   "cell_type": "code",
   "execution_count": null,
   "metadata": {
    "code_folding": [
     1,
     6,
     11,
     23,
     33,
     39
    ]
   },
   "outputs": [],
   "source": [
    "# Label each sample based on the sample ranges\n",
    "def mapToLabel(sample, class_ranges):\n",
    "    \n",
    "    for interval in class_ranges:\n",
    "        \n",
    "        if(sample >= interval[0] and sample <= interval[1]):\n",
    "            return 1\n",
    "        \n",
    "    return 0\n",
    "\n",
    "# Adds a data class as a column to the dataframe\n",
    "def addClassToData(classes, class_name, class_ranges, data_size):\n",
    "    class_values = pd.Series(range(0, data_size)).apply(mapToLabel, args=(class_ranges,))\n",
    "    classes.insert(len(classes.columns), class_name, class_values, True)\n",
    "    \n",
    "# Main method\n",
    "def processLabels(data_mpu, classes_to_map):\n",
    "    \n",
    "    data_size = len(data_mpu)\n",
    "    classes = pd.DataFrame()\n",
    "    \n",
    "    addClassToData(classes, 'paved_road', classes_to_map['paved_road'], data_size)\n",
    "    addClassToData(classes, 'unpaved_road', classes_to_map['unpaved_road'], data_size)\n",
    "    addClassToData(classes, 'dirt_road', classes_to_map['dirt_road'], data_size)\n",
    "    addClassToData(classes, 'cobblestone_road', classes_to_map['cobblestone_road'], data_size)\n",
    "    addClassToData(classes, 'asphalt_road', classes_to_map['asphalt_road'], data_size)\n",
    "    addClassToData(classes, 'no_speed_bump', classes_to_map['no_speed_bump'], data_size)\n",
    "    addClassToData(classes, 'irregular_speed_bump', classes_to_map['irregular_speed_bump'], data_size)\n",
    "    addClassToData(classes, 'regular_speed_bump', classes_to_map['regular_speed_bump'], data_size)\n",
    "\n",
    "    file = os.path.join(folder, 'dataset_labels.csv')\n",
    "    classes.to_csv(file, index=False)\n",
    "    print(\"Saved in \", file)\n",
    "\n",
    "    return classes"
   ]
  },
  {
   "cell_type": "markdown",
   "metadata": {},
   "source": [
    "<h4>Data Import</h4>"
   ]
  },
  {
   "cell_type": "code",
   "execution_count": null,
   "metadata": {},
   "outputs": [],
   "source": [
    "dataset = workspace['datasets']['pvs-9']\n",
    "folder = os.path.join(workspace['settings']['folder'], dataset['folder'])\n",
    "data_left = pd.read_csv(os.path.join(folder, 'dataset_gps_mpu_left.csv'), float_precision=\"high\")\n",
    "data_right = pd.read_csv(os.path.join(folder, 'dataset_gps_mpu_right.csv'), float_precision=\"high\")"
   ]
  },
  {
   "cell_type": "markdown",
   "metadata": {},
   "source": [
    "<h4>Rotulação de Dados</h4>"
   ]
  },
  {
   "cell_type": "code",
   "execution_count": null,
   "metadata": {},
   "outputs": [],
   "source": [
    "classes = processLabels(data_left.copy(), dataset.copy())"
   ]
  },
  {
   "cell_type": "code",
   "execution_count": null,
   "metadata": {},
   "outputs": [],
   "source": []
  }
 ],
 "metadata": {
  "kernelspec": {
   "display_name": "Python 3",
   "language": "python",
   "name": "python3"
  },
  "language_info": {
   "codemirror_mode": {
    "name": "ipython",
    "version": 3
   },
   "file_extension": ".py",
   "mimetype": "text/x-python",
   "name": "python",
   "nbconvert_exporter": "python",
   "pygments_lexer": "ipython3",
   "version": "3.7.7"
  }
 },
 "nbformat": 4,
 "nbformat_minor": 4
}
