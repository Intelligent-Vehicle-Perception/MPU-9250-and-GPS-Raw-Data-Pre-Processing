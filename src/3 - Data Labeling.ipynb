{
 "cells": [
  {
   "cell_type": "markdown",
   "metadata": {},
   "source": [
    "<h1>Rotulação de Dados</h1>\n",
    "\n",
    "Neste notebook é criado labels para os dados."
   ]
  },
  {
   "cell_type": "markdown",
   "metadata": {},
   "source": [
    "<h4>Rotulação de Tipo de Superfície</h4>\n",
    "\n",
    "<table>\n",
    "     <tr>\n",
    "         <th>Valor</th>\n",
    "         <th>Tipo</th>\n",
    "         <th>Especificação</th>\n",
    "     </tr>\n",
    "     <tr>\n",
    "         <td>0,1</td>\n",
    "         <td>Sem Pavimento</td>\n",
    "         <td>Terra</td>\n",
    "     </tr>\n",
    "     <tr>\n",
    "         <td>0,1</td>\n",
    "         <td>Pavimento Flexível</td>\n",
    "         <td>Paralelepípedo/Hexagonal</td>\n",
    "     </tr>\n",
    "     <tr>\n",
    "         <td>0,1</td>\n",
    "         <td>Pavimento Rígido</td>\n",
    "         <td>Asfalto</td>\n",
    "     </tr>\n",
    "</table>\n"
   ]
  },
  {
   "cell_type": "markdown",
   "metadata": {},
   "source": [
    "<h4>Importação de Pacotes</h4>"
   ]
  },
  {
   "cell_type": "code",
   "execution_count": null,
   "metadata": {},
   "outputs": [],
   "source": [
    "import os\n",
    "import pandas as pd\n",
    "import matplotlib.pyplot as plt\n",
    "%matplotlib inline\n",
    "# %matplotlib notebook\n",
    "pd.set_option(\"float_format\", '{:0.10f}'.format)\n",
    "pd.set_option('display.max_columns', 30)\n",
    "%run \"3 - Data Labeling.py\""
   ]
  },
  {
   "cell_type": "markdown",
   "metadata": {},
   "source": [
    "<h4>Funções Utilitárias</h4>"
   ]
  },
  {
   "cell_type": "code",
   "execution_count": null,
   "metadata": {
    "code_folding": [
     1,
     6,
     11,
     23,
     33,
     39
    ]
   },
   "outputs": [],
   "source": [
    "# Rotula cada amostra com base nos ranges de samples\n",
    "def mapToLabel(sample, class_ranges):\n",
    "    \n",
    "    for interval in class_ranges:\n",
    "        \n",
    "        if(sample >= interval[0] and sample <= interval[1]):\n",
    "            return 1\n",
    "        \n",
    "    return 0\n",
    "\n",
    "# Adiciona uma classe de dado como coluna no dataset\n",
    "def addClassToData(classes, class_name, class_ranges, data_size):\n",
    "    class_values = pd.Series(range(0, data_size)).apply(mapToLabel, args=(class_ranges,))\n",
    "    classes.insert(len(classes.columns), class_name, class_values, True)\n",
    "    \n",
    "# Método principal \n",
    "def processLabels(data_mpu, class_ranges):\n",
    "    \n",
    "    data_size = len(data_mpu)\n",
    "    classes = pd.DataFrame()\n",
    "    \n",
    "    addClassToData(classes, 'land',        class_ranges['sem_pavimento'],      data_size)\n",
    "    addClassToData(classes, 'cobblestone', class_ranges['pavimento_flexivel'], data_size)\n",
    "    addClassToData(classes, 'asphalt',     class_ranges['pavimento_rigido'],   data_size)\n",
    "    \n",
    "    file = os.path.join(folder, 'dataset_labels.csv')\n",
    "    classes.to_csv(file, index=False)\n",
    "    print(\"Salvo em \", file)\n",
    "\n",
    "    return classes\n",
    "\n",
    "# Plot dados com classes\n",
    "def plotClasses(data_mpu, classes):\n",
    "    plt.figure(figsize=(16,6)) \n",
    "    data_mpu['gyro_y_below_suspension'].plot(color=\"g\")\n",
    "    data_mpu['acc_z_below_suspension'].plot(color=\"y\")\n",
    "    (data_mpu['speed'] * 3.6).plot()\n",
    "    (classes['land'] * 20).plot(linewidth=4)\n",
    "    (classes['cobblestone'] * 40).plot(linewidth=4)\n",
    "    (classes['asphalt'] * 60).plot(linewidth=4)\n",
    "    plt.legend()"
   ]
  },
  {
   "cell_type": "markdown",
   "metadata": {},
   "source": [
    "<h4>Importação dos Dados</h4>"
   ]
  },
  {
   "cell_type": "code",
   "execution_count": null,
   "metadata": {},
   "outputs": [],
   "source": [
    "dataset = workspace['datasets']['saveiro-1']\n",
    "folder = os.path.join(workspace['settings']['folder'], dataset['folder'])\n",
    "data_esquerda = pd.read_csv(os.path.join(folder, 'dataset_gps_mpu_left.csv'), float_precision=\"high\")\n",
    "data_direita = pd.read_csv(os.path.join(folder, 'dataset_gps_mpu_right.csv'), float_precision=\"high\")"
   ]
  },
  {
   "cell_type": "markdown",
   "metadata": {},
   "source": [
    "<h4>Rotulação de Dados</h4>"
   ]
  },
  {
   "cell_type": "code",
   "execution_count": null,
   "metadata": {},
   "outputs": [],
   "source": [
    "classes = processLabels(data_esquerda.copy(), dataset.copy())"
   ]
  },
  {
   "cell_type": "code",
   "execution_count": null,
   "metadata": {},
   "outputs": [],
   "source": [
    "plotClasses(data_esquerda, classes)"
   ]
  },
  {
   "cell_type": "code",
   "execution_count": null,
   "metadata": {},
   "outputs": [],
   "source": [
    "plotClasses(data_direita, classes)"
   ]
  },
  {
   "cell_type": "code",
   "execution_count": null,
   "metadata": {},
   "outputs": [],
   "source": []
  }
 ],
 "metadata": {
  "kernelspec": {
   "display_name": "Python 3",
   "language": "python",
   "name": "python3"
  },
  "language_info": {
   "codemirror_mode": {
    "name": "ipython",
    "version": 3
   },
   "file_extension": ".py",
   "mimetype": "text/x-python",
   "name": "python",
   "nbconvert_exporter": "python",
   "pygments_lexer": "ipython3",
   "version": "3.7.4"
  }
 },
 "nbformat": 4,
 "nbformat_minor": 4
}
