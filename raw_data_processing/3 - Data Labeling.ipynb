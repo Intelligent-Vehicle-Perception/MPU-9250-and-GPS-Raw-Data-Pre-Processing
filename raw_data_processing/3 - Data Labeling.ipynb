{
 "cells": [
  {
   "cell_type": "markdown",
   "metadata": {},
   "source": [
    "<h1>Rotulação de Dados</h1>\n",
    "\n",
    "Neste notebook é criado labels para os dados."
   ]
  },
  {
   "cell_type": "markdown",
   "metadata": {},
   "source": [
    "<h4>Rotulação de Tipo de Superfície</h4>\n",
    "\n",
    "<table>\n",
    "     <tr>\n",
    "         <th>Valor</th>\n",
    "         <th>Tipo</th>\n",
    "         <th>Especificação</th>\n",
    "     </tr>\n",
    "     <tr>\n",
    "         <td>0,1</td>\n",
    "         <td>Sem Pavimento</td>\n",
    "         <td>Terra</td>\n",
    "     </tr>\n",
    "     <tr>\n",
    "         <td>0,1</td>\n",
    "         <td>Pavimento Flexível</td>\n",
    "         <td>Paralelepípedo/Hexagonal</td>\n",
    "     </tr>\n",
    "     <tr>\n",
    "         <td>0,1</td>\n",
    "         <td>Pavimento Rígido</td>\n",
    "         <td>Asfalto</td>\n",
    "     </tr>\n",
    "</table>\n"
   ]
  },
  {
   "cell_type": "markdown",
   "metadata": {},
   "source": [
    "<h4>Importação de Pacotes</h4>"
   ]
  },
  {
   "cell_type": "code",
   "execution_count": null,
   "metadata": {},
   "outputs": [],
   "source": [
    "import os\n",
    "import pandas as pd\n",
    "import matplotlib.pyplot as plt\n",
    "from datetime import datetime\n",
    "from dateutil import parser\n",
    "# %matplotlib inline\n",
    "%matplotlib notebook\n",
    "pd.set_option(\"float_format\", '{:0.10f}'.format)\n",
    "pd.set_option('display.max_columns', 30)\n",
    "%run \"3 - Data Labeling.py\""
   ]
  },
  {
   "cell_type": "markdown",
   "metadata": {},
   "source": [
    "<h4>Funções Utilitárias</h4>"
   ]
  },
  {
   "cell_type": "code",
   "execution_count": null,
   "metadata": {
    "code_folding": [
     1,
     6,
     11,
     23,
     33,
     39
    ]
   },
   "outputs": [],
   "source": [
    "# Transforma Date String em Timestamp Int\n",
    "def parseDateToTimestamp(value):\n",
    "    newDate = parser.parse(value)\n",
    "    return datetime.timestamp(newDate)\n",
    "\n",
    "# Transforma Timestamp Int em Date String \n",
    "def parseTimestampToDate(value):\n",
    "    newDate = datetime.fromtimestamp(value)\n",
    "    return newDate.strftime(\"%Y-%m-%dT%H:%M:%S\")\n",
    "\n",
    "# Transforma Array Tupla de Date para Array Tupla de Timestamp\n",
    "def parseDateToTimestampTuple(values):\n",
    "    \n",
    "    result = []\n",
    "\n",
    "    for i in values:\n",
    "        x = parseDateToTimestamp(i[0])\n",
    "        y = parseDateToTimestamp(i[1])\n",
    "        result.append((x,y))\n",
    "\n",
    "    return result\n",
    "\n",
    "# Rotula cada amostra com base nos labels e timestamp\n",
    "def mapToLabel(timestamp, ranges_timestamp):\n",
    "    \n",
    "    for interval in ranges_timestamp:\n",
    "        \n",
    "        if(timestamp >= interval[0] and timestamp <= interval[1]):\n",
    "            return 1\n",
    "        \n",
    "    return 0\n",
    "\n",
    "# Adiciona uma classe de dado como coluna no dataset\n",
    "def addClassToData(classes, data_mpu, ranges_date, class_name):\n",
    "    timestamps = data_mpu['timestamp'].copy()\n",
    "    ranges_timestamp = parseDateToTimestampTuple(ranges_date)\n",
    "    class_values = timestamps.apply(mapToLabel, args=(ranges_timestamp,))\n",
    "    classes.insert(len(classes.columns), class_name, class_values, True)\n",
    "    \n",
    "# Método principal \n",
    "def processLabels(data_mpu, ranges_date):\n",
    "    \n",
    "    classes = pd.DataFrame()\n",
    "    \n",
    "    addClassToData(classes, data_mpu, ranges_date['sem_pavimento'], 'land')\n",
    "    addClassToData(classes, data_mpu, ranges_date['pavimento_flexivel'], 'cobblestone')\n",
    "    addClassToData(classes, data_mpu, ranges_date['pavimento_rigido'], 'asphalt')\n",
    "    \n",
    "    file = os.path.join(folder, 'dataset_labels.csv')\n",
    "    classes.to_csv(file, index=False)\n",
    "    print(\"Salvo em \", file)\n",
    "\n",
    "    return classes\n",
    "\n",
    "# Plot dados com classes\n",
    "def plotClasses(data_mpu, classes):\n",
    "    plt.figure(figsize=(16,6)) \n",
    "    data_mpu['acc_z_below_suspension'].rolling(5).std().plot(color=\"y\")\n",
    "    # data_mpu['gyro_y_below_suspension'].plot()\n",
    "    # data_mpu['gyro_x_below_suspension'].plot()\n",
    "    (data_mpu['speed'] * 3.6).plot()\n",
    "    (classes['land'] * 20).plot(linewidth=2)\n",
    "    (classes['cobblestone'] * 40).plot(linewidth=2)\n",
    "    (classes['asphalt'] * 60).plot(linewidth=2)\n",
    "    plt.legend()"
   ]
  },
  {
   "cell_type": "markdown",
   "metadata": {},
   "source": [
    "<h4>Importação dos Dados</h4>"
   ]
  },
  {
   "cell_type": "code",
   "execution_count": null,
   "metadata": {},
   "outputs": [],
   "source": [
    "settings = workspace['settings']\n",
    "dataset = workspace['datasets']['saveiro-3']\n",
    "\n",
    "folder = os.path.join(settings['folder'], dataset['folder'])\n",
    "data_esquerda = pd.read_csv(os.path.join(folder, 'dataset_gps_mpu_left.csv'), float_precision=\"high\")\n",
    "data_direita = pd.read_csv(os.path.join(folder, 'dataset_gps_mpu_right.csv'), float_precision=\"high\")"
   ]
  },
  {
   "cell_type": "markdown",
   "metadata": {},
   "source": [
    "<h4>Rotulação de Dados</h4>"
   ]
  },
  {
   "cell_type": "code",
   "execution_count": null,
   "metadata": {},
   "outputs": [],
   "source": [
    "classes = processLabels(data_esquerda.copy(), dataset.copy())"
   ]
  },
  {
   "cell_type": "code",
   "execution_count": null,
   "metadata": {},
   "outputs": [],
   "source": [
    "plotClasses(data_esquerda, classes)"
   ]
  },
  {
   "cell_type": "code",
   "execution_count": null,
   "metadata": {},
   "outputs": [],
   "source": [
    "plotClasses(data_direita, classes)"
   ]
  }
 ],
 "metadata": {
  "kernelspec": {
   "display_name": "Python 3",
   "language": "python",
   "name": "python3"
  },
  "language_info": {
   "codemirror_mode": {
    "name": "ipython",
    "version": 3
   },
   "file_extension": ".py",
   "mimetype": "text/x-python",
   "name": "python",
   "nbconvert_exporter": "python",
   "pygments_lexer": "ipython3",
   "version": "3.7.4"
  }
 },
 "nbformat": 4,
 "nbformat_minor": 4
}
