{
 "cells": [
  {
   "cell_type": "markdown",
   "metadata": {},
   "source": [
    "<h1>Visualização de Dados Rotulados</h1>\n",
    "\n",
    "Visualização dos dados e classes produzidos na etapa anterior."
   ]
  },
  {
   "cell_type": "markdown",
   "metadata": {},
   "source": [
    "<h4>Importação de Pacotes</h4>"
   ]
  },
  {
   "cell_type": "code",
   "execution_count": null,
   "metadata": {},
   "outputs": [],
   "source": [
    "import os\n",
    "import pandas as pd\n",
    "import matplotlib.pyplot as plt\n",
    "from datetime import datetime\n",
    "from dateutil import parser\n",
    "# %matplotlib inline\n",
    "%matplotlib notebook\n",
    "pd.set_option(\"float_format\", '{:0.10f}'.format)\n",
    "pd.set_option('display.max_columns', 30)\n",
    "%run \"4 - Processed Labels Visualization.py\""
   ]
  },
  {
   "cell_type": "markdown",
   "metadata": {},
   "source": [
    "<h4>Funções Utilitárias</h4>"
   ]
  },
  {
   "cell_type": "code",
   "execution_count": null,
   "metadata": {},
   "outputs": [],
   "source": [
    "def plot(mpu, labels):\n",
    "    plt.figure(figsize=(16,6)) \n",
    "    mpu['gyro_y_below_suspension'].plot(color=\"g\")\n",
    "    mpu['acc_z_below_suspension'].plot(color=\"y\")\n",
    "    (mpu['speed'] * 3.6).plot()\n",
    "    (labels['land'] * 20).plot(linewidth=2)\n",
    "    (labels['cobblestone'] * 40).plot(linewidth=2)\n",
    "    (labels['asphalt'] * 60).plot(linewidth=2)\n",
    "    plt.legend()"
   ]
  },
  {
   "cell_type": "code",
   "execution_count": null,
   "metadata": {},
   "outputs": [],
   "source": [
    "settings = workspace['settings']\n",
    "dataset = workspace['datasets']['saveiro-1']\n",
    "\n",
    "folder = os.path.join(settings['folder'], dataset['folder'])\n",
    "data_esquerda = pd.read_csv(os.path.join(folder, 'dataset_gps_mpu_left.csv'), float_precision=\"high\")\n",
    "data_direita = pd.read_csv(os.path.join(folder, 'dataset_gps_mpu_right.csv'), float_precision=\"high\")\n",
    "classes = pd.read_csv(os.path.join(folder, 'dataset_labels.csv'), float_precision=\"high\")"
   ]
  },
  {
   "cell_type": "code",
   "execution_count": null,
   "metadata": {},
   "outputs": [],
   "source": [
    "plot(data_esquerda, classes)"
   ]
  },
  {
   "cell_type": "code",
   "execution_count": null,
   "metadata": {},
   "outputs": [],
   "source": [
    "plot(data_direita, classes)"
   ]
  },
  {
   "cell_type": "code",
   "execution_count": null,
   "metadata": {},
   "outputs": [],
   "source": []
  }
 ],
 "metadata": {
  "kernelspec": {
   "display_name": "Python 3.7.4 64-bit ('base': conda)",
   "language": "python",
   "name": "python37464bitbasecondab1fa12d075b1423abe3c4d9e747d7fcc"
  },
  "language_info": {
   "codemirror_mode": {
    "name": "ipython",
    "version": 3
   },
   "file_extension": ".py",
   "mimetype": "text/x-python",
   "name": "python",
   "nbconvert_exporter": "python",
   "pygments_lexer": "ipython3",
   "version": "3.7.4"
  }
 },
 "nbformat": 4,
 "nbformat_minor": 4
}
