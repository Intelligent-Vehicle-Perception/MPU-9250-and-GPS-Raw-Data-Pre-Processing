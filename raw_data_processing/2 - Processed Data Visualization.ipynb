{
 "cells": [
  {
   "cell_type": "markdown",
   "metadata": {},
   "source": [
    "<h1>Importação e Visualização de Dados Brutos Corrigidos</h1>\n",
    "\n",
    "Visualização dos dados brutos corrigidos na etapa anterior."
   ]
  },
  {
   "cell_type": "markdown",
   "metadata": {},
   "source": [
    "<h4>Importação de Pacotes</h4>"
   ]
  },
  {
   "cell_type": "code",
   "execution_count": null,
   "metadata": {},
   "outputs": [],
   "source": [
    "import os\n",
    "import folium\n",
    "import pandas as pd\n",
    "import matplotlib.pyplot as plt\n",
    "# %matplotlib inline\n",
    "%matplotlib notebook\n",
    "pd.set_option(\"float_format\", '{:0.10f}'.format)\n",
    "pd.set_option('display.max_columns', 30)\n",
    "%run \"2 - Processed Data Visualization.py\""
   ]
  },
  {
   "cell_type": "markdown",
   "metadata": {},
   "source": [
    "<h4>Funções Utilitárias</h4>"
   ]
  },
  {
   "cell_type": "code",
   "execution_count": null,
   "metadata": {
    "code_folding": [
     1,
     11,
     17,
     23
    ]
   },
   "outputs": [],
   "source": [
    "# Plot de Dados\n",
    "def plotData(data, typeAxis, title, raw=False, mean=False, std=False):\n",
    "    \n",
    "    plt.figure(figsize=(16,6)) \n",
    "    plt.title(title)\n",
    "    \n",
    "    below_suspension = data[typeAxis + '_below_suspension']\n",
    "    above_suspension = data[typeAxis + '_above_suspension']\n",
    "    dashboard = data[typeAxis + '_dashboard']\n",
    "    speed = data['speed'] # / 9.80665 # In G/s\n",
    "    \n",
    "    if raw:\n",
    "        below_suspension.plot()\n",
    "        above_suspension.plot()\n",
    "        dashboard.plot()\n",
    "        speed.plot()\n",
    "    \n",
    "    if mean:\n",
    "        below_suspension.rolling(5).mean().plot()\n",
    "        above_suspension.rolling(5).mean().plot()\n",
    "        dashboard.rolling(5).mean().plot()\n",
    "        speed.plot()\n",
    "        \n",
    "    if std:\n",
    "        below_suspension.rolling(5).std().plot()\n",
    "        above_suspension.rolling(5).std().plot()\n",
    "        dashboard.rolling(5).std().plot()\n",
    "        speed.plot()\n",
    "    \n",
    "    plt.legend(loc='upper center')"
   ]
  },
  {
   "cell_type": "markdown",
   "metadata": {},
   "source": [
    "<h4>Importação dos Dados</h4>"
   ]
  },
  {
   "cell_type": "code",
   "execution_count": null,
   "metadata": {},
   "outputs": [],
   "source": [
    "folder = os.path.join(workspace['settings']['folder'], workspace['datasets']['palio-3']['folder']) # Seleção do Dataset\n",
    "gps = pd.read_csv(os.path.join(folder, 'dataset_gps.csv'), float_precision=\"high\")\n",
    "data_esquerda = pd.read_csv(os.path.join(folder, 'dataset_gps_mpu_left.csv'), float_precision=\"high\")\n",
    "data_direita = pd.read_csv(os.path.join(folder, 'dataset_gps_mpu_right.csv'), float_precision=\"high\")"
   ]
  },
  {
   "cell_type": "markdown",
   "metadata": {},
   "source": [
    "<h4>Visualização de Dados</h4>"
   ]
  },
  {
   "cell_type": "code",
   "execution_count": null,
   "metadata": {},
   "outputs": [],
   "source": [
    "gps.describe()"
   ]
  },
  {
   "cell_type": "code",
   "execution_count": null,
   "metadata": {},
   "outputs": [],
   "source": [
    "data_esquerda.describe()"
   ]
  },
  {
   "cell_type": "code",
   "execution_count": null,
   "metadata": {},
   "outputs": [],
   "source": [
    "data_direita.describe()"
   ]
  },
  {
   "cell_type": "code",
   "execution_count": null,
   "metadata": {},
   "outputs": [],
   "source": [
    "gps.head()"
   ]
  },
  {
   "cell_type": "code",
   "execution_count": null,
   "metadata": {},
   "outputs": [],
   "source": [
    "data_esquerda.head()"
   ]
  },
  {
   "cell_type": "code",
   "execution_count": null,
   "metadata": {
    "scrolled": true
   },
   "outputs": [],
   "source": [
    "data_direita.head()"
   ]
  },
  {
   "cell_type": "markdown",
   "metadata": {},
   "source": [
    "<h2>Acceleration</h2>"
   ]
  },
  {
   "cell_type": "markdown",
   "metadata": {},
   "source": [
    "<h6>Acc X Esquerda</h6>"
   ]
  },
  {
   "cell_type": "code",
   "execution_count": null,
   "metadata": {},
   "outputs": [],
   "source": [
    "plotData(data_esquerda, \"acc_x\", \"Acc X - Esquerda - Dados Brutos\", raw=True)"
   ]
  },
  {
   "cell_type": "code",
   "execution_count": null,
   "metadata": {},
   "outputs": [],
   "source": [
    "plotData(data_esquerda, \"acc_x\", \"Acc X - Esquerda - Média Móvel\", mean=True)"
   ]
  },
  {
   "cell_type": "code",
   "execution_count": null,
   "metadata": {},
   "outputs": [],
   "source": [
    "plotData(data_esquerda, \"acc_x\", \"Acc X - Esquerda - Desvio Padrão Móvel\", std=True)"
   ]
  },
  {
   "cell_type": "markdown",
   "metadata": {},
   "source": [
    "<h6>Acc X Direita</h6>"
   ]
  },
  {
   "cell_type": "code",
   "execution_count": null,
   "metadata": {},
   "outputs": [],
   "source": [
    "plotData(data_direita, \"acc_x\", \"Acc X - Direita - Dados Brutos\", raw=True)"
   ]
  },
  {
   "cell_type": "code",
   "execution_count": null,
   "metadata": {},
   "outputs": [],
   "source": [
    "plotData(data_direita, \"acc_x\", \"Acc X - Direita - Média Móvel\", mean=True)"
   ]
  },
  {
   "cell_type": "code",
   "execution_count": null,
   "metadata": {},
   "outputs": [],
   "source": [
    "plotData(data_direita, \"acc_x\", \"Acc X - Direita - Desvio Padrão Móvel\", std=True)"
   ]
  },
  {
   "cell_type": "markdown",
   "metadata": {},
   "source": [
    "<h6>Acc Y Esquerda</h6>"
   ]
  },
  {
   "cell_type": "code",
   "execution_count": null,
   "metadata": {},
   "outputs": [],
   "source": [
    "plotData(data_esquerda, \"acc_y\", \"Acc Y - Esquerda - Dados Brutos\", raw=True)"
   ]
  },
  {
   "cell_type": "code",
   "execution_count": null,
   "metadata": {},
   "outputs": [],
   "source": [
    "plotData(data_esquerda, \"acc_y\", \"Acc Y - Esquerda - Média Móvel\", mean=True)"
   ]
  },
  {
   "cell_type": "code",
   "execution_count": null,
   "metadata": {},
   "outputs": [],
   "source": [
    "plotData(data_esquerda, \"acc_y\", \"Acc Y - Esquerda - Desvio Padrão Móvel\", std=True)"
   ]
  },
  {
   "cell_type": "markdown",
   "metadata": {},
   "source": [
    "<h6>Acc Y Direita</h6>"
   ]
  },
  {
   "cell_type": "code",
   "execution_count": null,
   "metadata": {},
   "outputs": [],
   "source": [
    "plotData(data_direita, \"acc_y\", \"Acc Y - Direita - Dados Brutos\", raw=True)"
   ]
  },
  {
   "cell_type": "code",
   "execution_count": null,
   "metadata": {},
   "outputs": [],
   "source": [
    "plotData(data_direita, \"acc_y\", \"Acc Y - Direita - Média Móvel\", mean=True)"
   ]
  },
  {
   "cell_type": "code",
   "execution_count": null,
   "metadata": {},
   "outputs": [],
   "source": [
    "plotData(data_direita, \"acc_y\", \"Acc Y - Direita - Desvio Padrão Móvel\", std=True)"
   ]
  },
  {
   "cell_type": "markdown",
   "metadata": {},
   "source": [
    "<h6>Acc Z Esquerda</h6>"
   ]
  },
  {
   "cell_type": "code",
   "execution_count": null,
   "metadata": {},
   "outputs": [],
   "source": [
    "plotData(data_esquerda, \"acc_z\", \"Acc z - Esquerda - Dados Brutos\", raw=True)"
   ]
  },
  {
   "cell_type": "code",
   "execution_count": null,
   "metadata": {},
   "outputs": [],
   "source": [
    "plotData(data_esquerda, \"acc_z\", \"Acc Z - Esquerda - Média Móvel\", mean=True)"
   ]
  },
  {
   "cell_type": "code",
   "execution_count": null,
   "metadata": {},
   "outputs": [],
   "source": [
    "plotData(data_esquerda, \"acc_z\", \"Acc Z - Esquerda - Desvio Padrão Móvel\", std=True)"
   ]
  },
  {
   "cell_type": "markdown",
   "metadata": {},
   "source": [
    "<h6>Acc Z Direita</h6>"
   ]
  },
  {
   "cell_type": "code",
   "execution_count": null,
   "metadata": {},
   "outputs": [],
   "source": [
    "plotData(data_direita, \"acc_z\", \"Acc Z - Direita - Dados Brutos\", raw=True)"
   ]
  },
  {
   "cell_type": "code",
   "execution_count": null,
   "metadata": {},
   "outputs": [],
   "source": [
    "plotData(data_direita, \"acc_z\", \"Acc Z - Direita - Média Móvel\", mean=True)"
   ]
  },
  {
   "cell_type": "code",
   "execution_count": null,
   "metadata": {},
   "outputs": [],
   "source": [
    "plotData(data_direita, \"acc_z\", \"Acc Z - Direita - Desvio Padrão Móvel\", std=True)"
   ]
  },
  {
   "cell_type": "markdown",
   "metadata": {},
   "source": [
    "<h2>Gyroscope</h2>"
   ]
  },
  {
   "cell_type": "markdown",
   "metadata": {},
   "source": [
    "<h6>Gyro X Esquerda</h6>"
   ]
  },
  {
   "cell_type": "code",
   "execution_count": null,
   "metadata": {},
   "outputs": [],
   "source": [
    "plotData(data_esquerda, \"gyro_x\", \"Gyro X - Esquerda - Dados Brutos\", raw=True)"
   ]
  },
  {
   "cell_type": "code",
   "execution_count": null,
   "metadata": {},
   "outputs": [],
   "source": [
    "plotData(data_esquerda, \"gyro_x\", \"Gyro X - Esquerda - Média Móvel\", mean=True)"
   ]
  },
  {
   "cell_type": "code",
   "execution_count": null,
   "metadata": {},
   "outputs": [],
   "source": [
    "plotData(data_esquerda, \"gyro_x\", \"Gyro X - Esquerda - Desvio Padrão Móvel\", std=True)"
   ]
  },
  {
   "cell_type": "markdown",
   "metadata": {},
   "source": [
    "<h6>Gyro X Direita</h6>"
   ]
  },
  {
   "cell_type": "code",
   "execution_count": null,
   "metadata": {},
   "outputs": [],
   "source": [
    "plotData(data_direita, \"gyro_x\", \"Gyro X - Direita - Dados Brutos\", raw=True)"
   ]
  },
  {
   "cell_type": "code",
   "execution_count": null,
   "metadata": {},
   "outputs": [],
   "source": [
    "plotData(data_direita, \"gyro_x\", \"Gyro X - Direita - Média Móvel\", mean=True)"
   ]
  },
  {
   "cell_type": "code",
   "execution_count": null,
   "metadata": {},
   "outputs": [],
   "source": [
    "plotData(data_direita, \"gyro_x\", \"Gyro X - Direita - Desvio Padrão Móvel\", std=True)"
   ]
  },
  {
   "cell_type": "markdown",
   "metadata": {},
   "source": [
    "<h6>Gyro Y Esquerda</h6>"
   ]
  },
  {
   "cell_type": "code",
   "execution_count": null,
   "metadata": {},
   "outputs": [],
   "source": [
    "plotData(data_esquerda, \"gyro_y\", \"Gyro Y - Esquerda - Dados Brutos\", raw=True)"
   ]
  },
  {
   "cell_type": "code",
   "execution_count": null,
   "metadata": {},
   "outputs": [],
   "source": [
    "plotData(data_esquerda, \"gyro_y\", \"Gyro Y - Esquerda - Média Móvel\", mean=True)"
   ]
  },
  {
   "cell_type": "code",
   "execution_count": null,
   "metadata": {},
   "outputs": [],
   "source": [
    "plotData(data_esquerda, \"gyro_y\", \"Gyro Y - Esquerda - Desvio Padrão Móvel\", std=True)"
   ]
  },
  {
   "cell_type": "markdown",
   "metadata": {},
   "source": [
    "<h6>Gyro Y Direita</h6>"
   ]
  },
  {
   "cell_type": "code",
   "execution_count": null,
   "metadata": {},
   "outputs": [],
   "source": [
    "plotData(data_direita, \"gyro_y\", \"Gyro Y - Direita - Dados Brutos\", raw=True)"
   ]
  },
  {
   "cell_type": "code",
   "execution_count": null,
   "metadata": {},
   "outputs": [],
   "source": [
    "plotData(data_direita, \"gyro_y\", \"Gyro Y - Direita - Média Móvel\", mean=True)"
   ]
  },
  {
   "cell_type": "code",
   "execution_count": null,
   "metadata": {},
   "outputs": [],
   "source": [
    "plotData(data_direita, \"gyro_y\", \"Gyro Y - Direita - Desvio Padrão Móvel\", std=True)"
   ]
  },
  {
   "cell_type": "markdown",
   "metadata": {},
   "source": [
    "<h6>Gyro Z Esquerda</h6>"
   ]
  },
  {
   "cell_type": "code",
   "execution_count": null,
   "metadata": {},
   "outputs": [],
   "source": [
    "plotData(data_esquerda, \"gyro_z\", \"Gyro Z - Esquerda - Dados Brutos\", raw=True)"
   ]
  },
  {
   "cell_type": "code",
   "execution_count": null,
   "metadata": {},
   "outputs": [],
   "source": [
    "plotData(data_esquerda, \"gyro_z\", \"Gyro Z - Esquerda - Média Móvel\", mean=True)"
   ]
  },
  {
   "cell_type": "code",
   "execution_count": null,
   "metadata": {},
   "outputs": [],
   "source": [
    "plotData(data_esquerda, \"gyro_z\", \"Gyro Z - Esquerda - Desvio Padrão Móvel\", std=True)"
   ]
  },
  {
   "cell_type": "markdown",
   "metadata": {},
   "source": [
    "<h6>Gyro Z Direita</h6>"
   ]
  },
  {
   "cell_type": "code",
   "execution_count": null,
   "metadata": {},
   "outputs": [],
   "source": [
    "plotData(data_direita, \"gyro_z\", \"Gyro Z - Direita - Dados Brutos\", raw=True)"
   ]
  },
  {
   "cell_type": "code",
   "execution_count": null,
   "metadata": {},
   "outputs": [],
   "source": [
    "plotData(data_direita, \"gyro_z\", \"Gyro Z - Direita - Média Móvel\", mean=True)"
   ]
  },
  {
   "cell_type": "code",
   "execution_count": null,
   "metadata": {},
   "outputs": [],
   "source": [
    "plotData(data_direita, \"gyro_z\", \"Gyro Z - Direita - Desvio Padrão Móvel\", std=True)"
   ]
  },
  {
   "cell_type": "markdown",
   "metadata": {},
   "source": [
    "<h2>GPS</h2>"
   ]
  },
  {
   "cell_type": "code",
   "execution_count": null,
   "metadata": {},
   "outputs": [],
   "source": [
    "speedMS = gps['speed_meters_per_second']\n",
    "speedKMH = gps['speed_meters_per_second'] * 3.6\n",
    "speedEstimated = gps['distance_meters'] / gps['elapsed_time_seconds']\n",
    "\n",
    "plt.figure(figsize=(16,8)) \n",
    "plt.title('Speed in m/s and km/h')\n",
    "speedEstimated.plot(label='m/s - Estimated', color='red')\n",
    "speedMS.plot(label='m/s')\n",
    "speedKMH.plot(label='km/h')\n",
    "plt.legend(loc='upper center')"
   ]
  },
  {
   "cell_type": "code",
   "execution_count": null,
   "metadata": {},
   "outputs": [],
   "source": [
    "locations = gps[['latitude', 'longitude']]\n",
    "coordinates = [tuple(x) for x in locations.to_numpy()]\n",
    "\n",
    "focolat = (gps['latitude'].min() + gps['latitude'].max()) / 2\n",
    "focolon = (gps['longitude'].min() + gps['longitude'].max()) / 2\n",
    "maps = folium.Map(location=[focolat, focolon], zoom_start=14)\n",
    "\n",
    "folium.PolyLine(coordinates, color=\"blue\", weight=2.5, opacity=1).add_to(maps)\n",
    "\n",
    "maps"
   ]
  },
  {
   "cell_type": "code",
   "execution_count": null,
   "metadata": {},
   "outputs": [],
   "source": []
  }
 ],
 "metadata": {
  "kernelspec": {
   "display_name": "Python 3",
   "language": "python",
   "name": "python3"
  },
  "language_info": {
   "codemirror_mode": {
    "name": "ipython",
    "version": 3
   },
   "file_extension": ".py",
   "mimetype": "text/x-python",
   "name": "python",
   "nbconvert_exporter": "python",
   "pygments_lexer": "ipython3",
   "version": "3.7.4"
  }
 },
 "nbformat": 4,
 "nbformat_minor": 4
}
